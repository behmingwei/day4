{
 "cells": [
  {
   "cell_type": "code",
   "execution_count": 4,
   "id": "4ec79498",
   "metadata": {},
   "outputs": [],
   "source": [
    "from textblob import TextBlob"
   ]
  },
  {
   "cell_type": "code",
   "execution_count": 5,
   "id": "956bde4c",
   "metadata": {},
   "outputs": [],
   "source": [
    "f = open(\"News.txt\")"
   ]
  },
  {
   "cell_type": "code",
   "execution_count": 6,
   "id": "39e076ec",
   "metadata": {},
   "outputs": [],
   "source": [
    "d = f.read()"
   ]
  },
  {
   "cell_type": "code",
   "execution_count": 7,
   "id": "38610ddd",
   "metadata": {},
   "outputs": [
    {
     "name": "stdout",
     "output_type": "stream",
     "text": [
      "US Secretary of State Antony Blinken has told the BBC that he is convinced Ukraine can win its war with Russia.\n",
      "\n",
      "He could not say how long the conflict would last, but insisted that Ukraine's defeat was not inevitable.\n",
      "\n",
      "Mr Blinken praised the \"extraordinary resilience\" of the Ukrainian people.\n",
      "\n",
      "\"If it's the intention of Moscow to try somehow to topple the government and install its own puppet regime, 45 million Ukrainians are going to reject that one way or the other,\" he said.\n",
      "\n",
      "The war has already not gone as Russian President Vladimir Putin might have planned, he added.\n",
      "\n",
      "Stiff resistance by Ukrainian forces continued to hamper Russian advances across the country on the ninth day of the invasion.\n",
      "\n",
      "In the south, Russian forces captured areas along the Black Sea coast, and the port city of Mariupol remained surrounded. But the governor of Mykolaiv said Russian troops had been driven out of the city.\n",
      "\n",
      "Ukraine's second city of Kharkiv, in the north, also remained under siege.\n",
      "Mr Blinken spoke to BBC diplomatic correspondent James Landale after meeting his European Union counterparts in Brussels at the start of a six-day trip to Europe.\n",
      "\n",
      "He said the international community was committed to doing everything it could to help Ukraine and also to put \"excruciating pressure on Russia to end this war of choice that Vladimir Putin started\".\n",
      "\n",
      "Asked if he was convinced Ukrainian could win, he said: \"Over time, absolutely.\"\n",
      "\n",
      "\"I can't tell you how long this will go on. I can't tell you how long it will take. But the idea that Russia can subjugate to its will 45 million people who are ardently fighting for their future and their freedom, that does not involve Russia having its thumb on Ukraine, that tells you a lot.\"\n",
      "\n",
      "Mr Blinken also said he was concerned about escalation.\n",
      "\n",
      "\"It's something we care about and are focused on because the only thing worse than a war which is contained to Ukraine is one that escalates even further and goes beyond it.\"\n",
      "\n",
      "He warned that Russian forces were using \"increasingly brutal\" methods against civilians in Ukraine, and that there had been tremendous human suffering as a result.\n",
      "\n",
      "\"We're seeing Russia go after critical infrastructure that's denying Ukrainians water, denying them electricity, denying them heat,\" he said. \"Those methods are, unfortunately, tragically, part of the Russian playbook under President Putin. And I think we're likely to see more of that.\"\n",
      "\n",
      "Asked if the US would seek a change in Moscow's leadership to bring an end to the invasion, he replied: \"We don't seek that, and in any event it's not up to us. The Russian people need to decide their leadership.\"\n",
      "\n",
      "\"What I would say to the Russian people is: How in the world is this war of aggression... advancing your interests, your needs?\" he added.\n"
     ]
    }
   ],
   "source": [
    "print(d)"
   ]
  },
  {
   "cell_type": "code",
   "execution_count": 8,
   "id": "ae609e9f",
   "metadata": {},
   "outputs": [
    {
     "data": {
      "text/plain": [
       "Sentiment(polarity=0.03244897959183674, subjectivity=0.42571428571428577)"
      ]
     },
     "execution_count": 8,
     "metadata": {},
     "output_type": "execute_result"
    }
   ],
   "source": [
    "TextBlob(d).sentiment"
   ]
  },
  {
   "cell_type": "code",
   "execution_count": null,
   "id": "6da07682",
   "metadata": {},
   "outputs": [],
   "source": []
  }
 ],
 "metadata": {
  "kernelspec": {
   "display_name": "Python 3",
   "language": "python",
   "name": "python3"
  },
  "language_info": {
   "codemirror_mode": {
    "name": "ipython",
    "version": 3
   },
   "file_extension": ".py",
   "mimetype": "text/x-python",
   "name": "python",
   "nbconvert_exporter": "python",
   "pygments_lexer": "ipython3",
   "version": "3.8.8"
  }
 },
 "nbformat": 4,
 "nbformat_minor": 5
}
